{
 "cells": [
  {
   "cell_type": "markdown",
   "metadata": {
    "collapsed": true,
    "id": "9d097b85-66e5-4e0f-89e2-dc7678613509"
   },
   "source": [
    "# Sample Notebook - AIDC with OpenScale\n"
   ]
  },
  {
   "cell_type": "markdown",
   "metadata": {
    "id": "8ea173f9ddba46adb85442c2773fce38"
   },
   "source": [
    "### Import AIDC library and requirements"
   ]
  },
  {
   "cell_type": "code",
   "execution_count": 2,
   "metadata": {
    "id": "32e7042adfea4850968652436972d9ac"
   },
   "outputs": [
    {
     "name": "stdout",
     "output_type": "stream",
     "text": [
      "Processing /project_data/data_asset/aidc-2.0.zip\n",
      "  Preparing metadata (setup.py) ... \u001b[?25ldone\n",
      "\u001b[?25hCollecting javascript\n",
      "  Using cached javascript-1%211.0.3-py3-none-any.whl (33 kB)\n",
      "Building wheels for collected packages: aidc\n",
      "  Building wheel for aidc (setup.py) ... \u001b[?25ldone\n",
      "\u001b[?25h  Created wheel for aidc: filename=aidc-2.0-py3-none-any.whl size=138109 sha256=d37c095c3affe5086ce7c85819dc67fa730b466c6e0665eb6134c3b0e14f0217\n",
      "  Stored in directory: /tmp/1000710000/.cache/pip/wheels/36/35/e2/ffafef2711229494b6f5514e8d265d330c9b11bfa3285f4fce\n",
      "Successfully built aidc\n",
      "Installing collected packages: javascript, aidc\n",
      "  Attempting uninstall: javascript\n",
      "    Found existing installation: javascript 1!1.0.3\n",
      "    Uninstalling javascript-1!1.0.3:\n",
      "      Successfully uninstalled javascript-1!1.0.3\n",
      "  Attempting uninstall: aidc\n",
      "    Found existing installation: aidc 2.0\n",
      "    Uninstalling aidc-2.0:\n",
      "      Successfully uninstalled aidc-2.0\n",
      "Successfully installed aidc-2.0 javascript-1!1.0.3\n",
      "Requirement already satisfied: pyparsing!=3.0.5,>=2.0.2 in /opt/conda/envs/Python-RT23.1-Premium/lib/python3.10/site-packages (from packaging->ibm-watson-machine-learning) (3.0.9)\n",
      "Requirement already satisfied: charset-normalizer<4,>=2 in /opt/conda/envs/Python-RT23.1-Premium/lib/python3.10/site-packages (from requests<3.0,>=2.0->ibm-watson-openscale) (2.0.4)\n"
     ]
    }
   ],
   "source": [
    "## Import AIDC libraries\n",
    "!pip install /project_data/data_asset/aidc-2.0.zip;\n",
    "!pip install --upgrade ibm-watson-machine-learning   | tail -n 1\n",
    "!pip install --upgrade ibm-watson-openscale --no-cache | tail -n 1\n",
    "import aidc"
   ]
  },
  {
   "cell_type": "markdown",
   "metadata": {
    "id": "2e25e2f10a0348a397c5ec3ef8951d7b"
   },
   "source": [
    "### Configure WML client to deploy the function"
   ]
  },
  {
   "cell_type": "code",
   "execution_count": 3,
   "metadata": {
    "id": "d85ffba037e44a388778f1d199efd1c4"
   },
   "outputs": [],
   "source": [
    "#Configure the WML client\n",
    "import os\n",
    "from ibm_watson_machine_learning import APIClient\n",
    "\n",
    "WOS_CREDENTIALS = {\n",
    "    \"url\": os.environ.get(\"RUNTIME_ENV_APSX_URL\"),\n",
    "    \"username\": \"admin\",\n",
    "    \"apikey\": \"wTCDCBGZkMvCv9wfMqNHX38HIz65zuKxDZsZFJiM\",\n",
    "}\n",
    "\n",
    "#Subscription ID of the model from OpenScale\n",
    "subscription_id = \"40c1fef9-db6e-4dfb-9eb8-5b4b275b0cb8\"\n",
    "\n",
    "#Default guid\n",
    "WOS_GUID=\"00000000-0000-0000-0000-000000000000\"\n",
    "\n",
    "WML_CREDENTIALS = WOS_CREDENTIALS.copy()\n",
    "WML_CREDENTIALS['instance_id']='openshift'\n",
    "WML_CREDENTIALS['version']='4.7'\n",
    "\n",
    "PYTHON_FUNCTION_NAME = 'AIDC Custom Metric Function'\n",
    "DEPLOYMENT_NAME = 'AIDC Custom Metric Deployment'\n",
    "CUSTOM_METRICS_PROVIDER_NAME = \"AIDC Metrics Provider\"\n",
    "CUSTOM_MONITOR_NAME = 'Aidc Demo monitor'"
   ]
  },
  {
   "cell_type": "markdown",
   "metadata": {
    "id": "07792798d2064051816113f333217419"
   },
   "source": [
    "### Connect to the space"
   ]
  },
  {
   "cell_type": "code",
   "execution_count": 4,
   "metadata": {
    "id": "6d1b8047a70d436b8bda912a7c195882"
   },
   "outputs": [
    {
     "data": {
      "text/plain": [
       "'SUCCESS'"
      ]
     },
     "execution_count": 4,
     "metadata": {},
     "output_type": "execute_result"
    }
   ],
   "source": [
    "#Configure the space\n",
    "wml_client = APIClient(WML_CREDENTIALS)\n",
    "\n",
    "metadata = {            \n",
    "     wml_client.spaces.ConfigurationMetaNames.NAME: 'AIDC_space',         \n",
    "     wml_client.spaces.ConfigurationMetaNames.DESCRIPTION:  'AIDC space',            \n",
    "     }\n",
    "SPACE_NAME=metadata[wml_client.spaces.ConfigurationMetaNames.NAME]\n",
    "\n",
    "def guid_from_space_name(client, space_name):\n",
    " space = client.spaces.get_details()\n",
    " try:\n",
    "     return_item=next(item for item in space['resources'] if item['entity'][\"name\"] == space_name)['metadata']['id']\n",
    " except:\n",
    "     return_item=\"0\"\n",
    " return(return_item)\n",
    "\n",
    "space_uid = guid_from_space_name(wml_client, SPACE_NAME)\n",
    "if(space_uid==\"0\"):\n",
    "    space_details = wml_client.spaces.store(meta_props=metadata,background_mode=False)\n",
    "    space_uid = guid_from_space_name(wml_client, SPACE_NAME)\n",
    "wml_client.set.default_space(space_uid)"
   ]
  },
  {
   "cell_type": "markdown",
   "metadata": {
    "id": "19711286649f4dd482d64cebb44594fe"
   },
   "source": [
    "### Define the monitor logic"
   ]
  },
  {
   "cell_type": "code",
   "execution_count": 5,
   "metadata": {
    "id": "614a0cb08ac842b1aedff861325482e3"
   },
   "outputs": [],
   "source": [
    "#Custom metric functions\n",
    "parms = {\n",
    "        \"url\": WOS_CREDENTIALS[\"url\"],\n",
    "        \"username\": WOS_CREDENTIALS[\"username\"],\n",
    "        \"apikey\": WOS_CREDENTIALS[\"apikey\"]\n",
    "    }\n",
    "def custom_metrics_provider(parms = parms):\n",
    "    \n",
    "    ######################## Edit the values for your custom performance model. ############################\n",
    "    TruePositiveCost = \"0\"\n",
    "    FalsePositiveCost = \"-LoanAmount*0.03\"\n",
    "    FalseNegativeCost = \"-LoanAmount*0.5\"\n",
    "    TrueNegativeCost = \"LoanAmount*0.3\"\n",
    "    ModelDecisionCost = \"-0.02\"\n",
    "    HumanDecisionCost = \"-0.05\"\n",
    "    #################################################################################################\n",
    "        \n",
    "    import json\n",
    "    import requests\n",
    "    import base64\n",
    "    from requests.auth import HTTPBasicAuth\n",
    "    import time\n",
    "    import uuid\n",
    "    import datetime\n",
    "    import aidc\n",
    "    import pandas as pd\n",
    "    \n",
    "    headers = {}\n",
    "    headers[\"Content-Type\"] = \"application/json\"\n",
    "    headers[\"Accept\"] = \"application/json\"\n",
    "    \n",
    "    \n",
    "    # Get the access token\n",
    "    def get_access_token():\n",
    "        url = '{}/icp4d-api/v1/authorize'.format(parms['url'])\n",
    "        payload = {\n",
    "            'username': parms['username'],\n",
    "            'api_key': parms['apikey']\n",
    "        }\n",
    "        response = requests.post(url, headers=headers, json=payload, verify=False)\n",
    "        json_data = response.json()\n",
    "        access_token = json_data['token']\n",
    "        return access_token \n",
    "    \n",
    "    #Update the run status to Finished in the Monitor Run\n",
    "    def update_monitor_run_status(base_url, access_token, custom_monitor_instance_id, run_id, status, error_msg = None):\n",
    "        monitor_run_url = base_url + '/v2/monitor_instances/' + custom_monitor_instance_id + '/runs/'+run_id\n",
    "        completed_timestamp = datetime.datetime.utcnow().strftime(\"%Y-%m-%dT%H:%M:%S.%fZ\")\n",
    "        patch_payload  = []\n",
    "        base_path = \"/status\"        \n",
    "        patch_payload.append(get_patch_request_field(base_path, \"state\", status))\n",
    "        patch_payload.append(get_patch_request_field(base_path, \"completed_at\", completed_timestamp))\n",
    "        if error_msg != None:\n",
    "            error_json = get_error_json(error_msg)\n",
    "            patch_payload.append(get_patch_request_field(base_path, \"failure\", error_json))        \n",
    "        headers[\"Authorization\"] = \"Bearer {}\".format(access_token)\n",
    "        response = requests.patch(monitor_run_url, headers=headers, json = patch_payload, verify=False)\n",
    "        monitor_run_response = response.json()\n",
    "        return response.status_code, monitor_run_response\n",
    "    \n",
    "    \n",
    "    def get_error_json(error_message):\n",
    "        trace = str(uuid.uuid4())\n",
    "        error_json = {\n",
    "            'trace': trace,\n",
    "            'errors': [{\n",
    "                'code': \"custom_metrics_error_code\",\n",
    "                'message': str(error_message)\n",
    "            }]\n",
    "        }\n",
    "        return error_json\n",
    "    \n",
    "    def get_patch_request_field(base_path, field_name, field_value, op_name=\"replace\"):\n",
    "        field_json = {\n",
    "            \"op\": op_name,\n",
    "            \"path\": \"{0}/{1}\".format(base_path, field_name),\n",
    "            \"value\": field_value\n",
    "        }\n",
    "        return field_json\n",
    "    \n",
    "    def sumPerformance(payload_data,taskmodel):\n",
    "        total_value=0\n",
    "        probability_position=payload_data['records'][0]['fields'].index(\"probability\")        \n",
    "\n",
    "        for i in range(len(payload_data['records'][0]['values'])):\n",
    "            probability=payload_data[\"records\"][0][\"values\"][i][probability_position][0]\n",
    "            difference=aidc.sumPerProbability(taskmodel,probability)\n",
    "            total_value+=difference \n",
    "    \n",
    "        return total_value\n",
    "    \n",
    "    def collect_feedback_dataset(access_token, data_mart_id, feedback_dataset_id):        \n",
    "        offset = 0\n",
    "        limit = 1000\n",
    "        reading_data = True\n",
    "        json_data = None\n",
    "        annotations = {\"annotations\": []}\n",
    "        fields = {\"fields\": []}\n",
    "        values = {\"values\": []}        \n",
    "        result = None        \n",
    "        while reading_data:\n",
    "            if feedback_dataset_id is not None:\n",
    "                headers[\"Authorization\"] = \"Bearer {}\".format(access_token)\n",
    "                DATASETS_STORE_RECORDS_URL = parms[\"url\"] + \"/openscale/{0}/v2/data_sets/{1}/records?offset={2}&limit={3}&format=list\".format(data_mart_id, feedback_dataset_id, offset, 1000)\n",
    "                response = requests.get(DATASETS_STORE_RECORDS_URL, headers=headers, verify=False)\n",
    "                json_data = response.json()                \n",
    "                offset += 1000                \n",
    "                if len(json_data[\"records\"]) != 0:                                \n",
    "                    annotations[\"annotations\"] = json_data[\"records\"][0][\"annotations\"]                    \n",
    "                    fields[\"fields\"] = json_data[\"records\"][0][\"fields\"]                                \n",
    "                    for val in json_data[\"records\"][0][\"values\"]:                        \n",
    "                        values[\"values\"].append(val)                                                                    \n",
    "                if len(json_data[\"records\"]) == 0: \n",
    "                    reading_data = False                                        \n",
    "        result = {\"records\":[{\"annotations\": annotations[\"annotations\"], \"fields\": fields[\"fields\"], \"values\": values[\"values\"]}]}        \n",
    "        return result\n",
    "    \n",
    "    def collect_payload_dataset(access_token, data_mart_id, payload_dataset_id):\n",
    "        json_data = None\n",
    "        if payload_dataset_id is not None:\n",
    "            headers[\"Authorization\"] = \"Bearer {}\".format(access_token)\n",
    "            DATASETS_STORE_RECORDS_URL = parms[\"url\"] + \"/openscale/{0}/v2/data_sets/{1}/records?limit={2}&format=list\".format(data_mart_id, payload_dataset_id, 100)\n",
    "            response = requests.get(DATASETS_STORE_RECORDS_URL, headers=headers, verify=False)\n",
    "            json_data = response.json()\n",
    "        return json_data\n",
    "    \n",
    "    def get_metrics(access_token, data_mart_id, subscription_id, feedback_dataset_id,payload_dataset_id):        \n",
    "        json_data = collect_feedback_dataset(access_token, data_mart_id, feedback_dataset_id)        \n",
    "        payload_data = collect_payload_dataset(access_token, data_mart_id, payload_dataset_id)        \n",
    "        \n",
    "        number_of_requests=0\n",
    "        decisioncost_value=0\n",
    "        performance_value=0\n",
    "        impact_value=0\n",
    "        ml_value=0\n",
    "        human_value=0\n",
    "        roi=0\n",
    "        if json_data is not None and len(json_data[\"records\"][0]['values'])>0:\n",
    "            fields = json_data['records'][0]['fields']\n",
    "            values = json_data['records'][0]['values']\n",
    "            feedback_data = pd.DataFrame(values, columns = fields)\n",
    "            table = aidc.load_pandas_data(feedback_data)        \n",
    "            taskmodel_data={\n",
    "              'id': \"0\",\n",
    "              'name': \"taskModel\",\n",
    "              'description': \"aidc\"\n",
    "            }\n",
    "            taskmodel=aidc.create_task_model(table,taskmodel_data)                        \n",
    "            aidc.set_custom_indicators(taskmodel, TruePositiveCost, FalsePositiveCost, FalseNegativeCost, TrueNegativeCost, ModelDecisionCost, HumanDecisionCost)                        \n",
    "            metrics = aidc.get_indicators(taskmodel)              \n",
    "            performance_value = float(metrics[\"Performance\"])            \n",
    "            impact_value = float(metrics[\"Impact\"])            \n",
    "            decisioncost_value = float(metrics[\"Decision Cost\"])            \n",
    "            ml_value = float(metrics[\"ml volume\"])            \n",
    "            human_value = float(metrics[\"human volume\"])            \n",
    "        \n",
    "        if payload_data is not None and len(payload_data[\"records\"])>0 and performance_value>0:\n",
    "           roi=sumPerformance(payload_data,taskmodel)\n",
    "            \n",
    "        metrics = {\"decisioncost\": decisioncost_value,\n",
    "                   \"performance\": performance_value, \n",
    "                   \"impact\": impact_value, \n",
    "                   \"ml\": ml_value, \n",
    "                   \"human\": human_value,\n",
    "                   \"roi\": roi}\n",
    "        return metrics\n",
    "          \n",
    "    # Publishes the Custom Metrics to OpenScale\n",
    "    def publish_metrics(base_url, access_token, data_mart_id, subscription_id, custom_monitor_id, custom_monitor_instance_id, custom_monitoring_run_id, feedback_dataset_id, timestamp,payload_dataset_id):\n",
    "        # Generate an monitoring run id, where the publishing happens against this run id\n",
    "        custom_metrics = get_metrics(access_token, data_mart_id, subscription_id, feedback_dataset_id,payload_dataset_id)\n",
    "        measurements_payload = [\n",
    "                  {\n",
    "                    \"timestamp\": timestamp,\n",
    "                    \"run_id\": custom_monitoring_run_id,\n",
    "                    \"metrics\": [custom_metrics]\n",
    "                  }\n",
    "                ]\n",
    "        headers[\"Authorization\"] = \"Bearer {}\".format(access_token)\n",
    "        measurements_url = base_url + '/v2/monitor_instances/' + custom_monitor_instance_id + '/measurements'\n",
    "        response = requests.post(measurements_url, headers=headers, json = measurements_payload, verify=False)\n",
    "        published_measurement = response.json()\n",
    "        return response.status_code, published_measurement\n",
    "        \n",
    "    \n",
    "    def publish( input_data ):        \n",
    "        timestamp = datetime.datetime.utcnow().strftime(\"%Y-%m-%dT%H:%M:%S.%fZ\")        \n",
    "        payload = input_data.get(\"input_data\")[0].get(\"values\")\n",
    "        data_mart_id = payload['data_mart_id']\n",
    "        subscription_id = payload['subscription_id']\n",
    "        custom_monitor_id = payload['custom_monitor_id']\n",
    "        custom_monitor_instance_id = payload['custom_monitor_instance_id']\n",
    "        custom_monitor_instance_params  = payload['custom_monitor_instance_params']\n",
    "        custom_monitor_run_id = payload['custom_monitor_run_id']\n",
    "        payload_dataset_id = payload.get('payload_dataset_id')\n",
    "        feedback_dataset_id = payload.get('feedback_dataset_id')\n",
    "        base_url = parms['url'] + '/openscale' + '/' + data_mart_id\n",
    "        access_token = get_access_token()        \n",
    "        published_measurements = []\n",
    "        error_msgs = []\n",
    "        run_status = \"finished\"        \n",
    "        try:\n",
    "            last_run_time = custom_monitor_instance_params.get(\"last_run_time\")\n",
    "            max_records = custom_monitor_instance_params.get(\"max_records\")\n",
    "            min_records = custom_monitor_instance_params.get(\"min_records\")\n",
    "            error_msg = None            \n",
    "            status_code, published_measurement = publish_metrics(base_url, access_token, data_mart_id, subscription_id, custom_monitor_id, custom_monitor_instance_id, custom_monitor_run_id, feedback_dataset_id, timestamp, payload_dataset_id)\n",
    "            if int(status_code) in [200, 201, 202]:\n",
    "                published_measurements.append(published_measurement)\n",
    "            else:\n",
    "                run_status = \"error\"\n",
    "                error_msg = published_measurement\n",
    "                error_msgs.append(error_msg)                    \n",
    "            status_code, response = update_monitor_run_status(base_url, access_token, custom_monitor_instance_id, custom_monitor_run_id, run_status, error_msg)            \n",
    "            if not int(status_code) in [200, 201, 202]:\n",
    "                error_msgs.append(response)                \n",
    "        except Exception as ex:\n",
    "            error_msgs.append(str(ex))\n",
    "        if len(error_msgs) == 0:\n",
    "            response_payload = {\n",
    "                \"predictions\" : [{ \n",
    "                    \"values\" : published_measurements\n",
    "                }]\n",
    "            }\n",
    "        else:\n",
    "            response_payload = {\n",
    "                \"predictions\":[],\n",
    "                \"errors\": error_msgs\n",
    "            }        \n",
    "        return response_payload\n",
    "        \n",
    "    return publish"
   ]
  },
  {
   "cell_type": "markdown",
   "metadata": {
    "id": "910f5a31068a49658fa67824d85d187c"
   },
   "source": [
    "### Prepare software specifications"
   ]
  },
  {
   "cell_type": "code",
   "execution_count": 6,
   "metadata": {
    "id": "f589ac2de4824b8b9572aa184daea669"
   },
   "outputs": [
    {
     "name": "stdout",
     "output_type": "stream",
     "text": [
      "Deleting deployment id 3c40e6cf-d29f-4f99-826c-00cf4aa96387\n",
      "Deleting model id 79fcc6b8-3634-4c19-ab30-bf2cb6500ea3\n",
      "aidc-spec\n",
      "Creating package extensions\n",
      "SUCCESS\n",
      "\n",
      "\n",
      "#######################################################################################\n",
      "\n",
      "Synchronous deployment creation for uid: '45308d01-198a-42b5-8a8a-1f30a3072c41' started\n",
      "\n",
      "#######################################################################################\n",
      "\n",
      "\n",
      "initializing\n",
      "Note: online_url is deprecated and will be removed in a future release. Use serving_urls instead.\n",
      "......................................\n",
      "ready\n",
      "\n",
      "\n",
      "------------------------------------------------------------------------------------------------\n",
      "Successfully finished deployment creation, deployment_uid='89d2ea08-e531-4e68-b84c-1df3778b42f1'\n",
      "------------------------------------------------------------------------------------------------\n",
      "\n",
      "\n"
     ]
    }
   ],
   "source": [
    "#Prepare and deploy the custom function\n",
    "\n",
    "#Clean previous deployments\n",
    "deployments_list = wml_client.deployments.get_details()\n",
    "for deployment in deployments_list[\"resources\"]:\n",
    "    model_id = deployment[\"entity\"][\"asset\"][\"id\"]\n",
    "    deployment_id = deployment[\"metadata\"][\"id\"]\n",
    "    if deployment[\"metadata\"][\"name\"] == DEPLOYMENT_NAME:\n",
    "        print(\"Deleting deployment id\", deployment_id)\n",
    "        wml_client.deployments.delete(deployment_id)\n",
    "        print(\"Deleting model id\", model_id)\n",
    "        wml_client.repository.delete(model_id)\n",
    "        \n",
    "#Find the AIDC custom software definition\n",
    "file_path_AIDC = '/project_data/data_asset/aidc-2.0.zip'\n",
    "specs_list = wml_client.software_specifications.get_details()\n",
    "for spec in specs_list[\"resources\"]:\n",
    "    name=(spec['metadata']['name'])\n",
    "    if(\"aidc-spec\" in name):\n",
    "        print(name)\n",
    "        base_software_spec_id =  wml_client.software_specifications.get_id_by_name(name)\n",
    "\n",
    "\n",
    "# Package extension metadata\n",
    "meta_prop_pkg_ext = {\n",
    "     wml_client.package_extensions.ConfigurationMetaNames.NAME: \"AIDC_custom_package\",\n",
    "     wml_client.package_extensions.ConfigurationMetaNames.DESCRIPTION: \"AIDC custom package\",\n",
    "     wml_client.package_extensions.ConfigurationMetaNames.TYPE: \"pip_zip\"\n",
    "}\n",
    "package_ext_details = wml_client.package_extensions.store(meta_props=meta_prop_pkg_ext, file_path = file_path_AIDC)\n",
    "package_ext_uid = wml_client.package_extensions.get_uid(package_ext_details)\n",
    "\n",
    "# Prepare software specificaion\n",
    "meta_prop_sw_spec = {\n",
    "     wml_client.software_specifications.ConfigurationMetaNames.NAME: \"AIDC_software_spec\",\n",
    "     wml_client.software_specifications.ConfigurationMetaNames.DESCRIPTION: \"AIDC software specification\",\n",
    "     wml_client.software_specifications.ConfigurationMetaNames.PACKAGE_EXTENSIONS : [{\n",
    "         \"guid\": package_ext_uid\n",
    "     }],\n",
    "     wml_client.software_specifications.ConfigurationMetaNames.BASE_SOFTWARE_SPECIFICATION: {\n",
    "         \"guid\": base_software_spec_id\n",
    "     }\n",
    "}\n",
    "software_spec_details = wml_client.software_specifications.store(meta_props=meta_prop_sw_spec)\n",
    "software_spec_uid = wml_client.software_specifications.get_uid(software_spec_details)\n",
    "\n",
    "#Function meta details\n",
    "meta_props = {\n",
    "         wml_client.repository.FunctionMetaNames.NAME: PYTHON_FUNCTION_NAME,\n",
    "         wml_client.repository.FunctionMetaNames.SOFTWARE_SPEC_ID: software_spec_uid\n",
    "}\n",
    "\n",
    "#Prepare the function\n",
    "function_artifact = wml_client.repository.store_function(meta_props=meta_props, function=custom_metrics_provider)\n",
    "function_uid = wml_client.repository.get_function_id(function_artifact)\n",
    "\n",
    "#Prepare hardware specs\n",
    "hardware_spec_id = wml_client.hardware_specifications.get_id_by_name('S')\n",
    "\n",
    "#Prepare the deployment metadata\n",
    "deploy_meta = {\n",
    "     wml_client.deployments.ConfigurationMetaNames.NAME: DEPLOYMENT_NAME,\n",
    "     wml_client.deployments.ConfigurationMetaNames.ONLINE: {},\n",
    "     wml_client.deployments.ConfigurationMetaNames.HARDWARE_SPEC: { \"id\": hardware_spec_id}\n",
    "}\n",
    "\n",
    "#Deploy the function\n",
    "deployment_details = wml_client.deployments.create(function_uid, meta_props=deploy_meta)\n",
    "\n",
    "created_at = deployment_details['metadata']['created_at']\n",
    "find_string_pos = created_at.find(\"T\")\n",
    "if find_string_pos != -1:\n",
    "    current_date = created_at[0:find_string_pos]\n",
    "scoring_url = wml_client.deployments.get_scoring_href(deployment_details)\n",
    "scoring_url = scoring_url + \"?version=\" + current_date"
   ]
  },
  {
   "cell_type": "markdown",
   "metadata": {
    "id": "eba647375bf2455ab7dc53e173ae7b1d"
   },
   "source": [
    "### Configure Watson OpenScale client"
   ]
  },
  {
   "cell_type": "code",
   "execution_count": 7,
   "metadata": {
    "id": "ccdc3db67d0e4f11965302b08b91d9a5"
   },
   "outputs": [],
   "source": [
    "#Configure WOS client\n",
    "from ibm_watson_openscale import APIClient\n",
    "from ibm_watson_openscale.base_classes.watson_open_scale_v2 import MonitorMeasurementRequest\n",
    "from ibm_watson_openscale.base_classes.watson_open_scale_v2 import MonitorMetricRequest\n",
    "from ibm_watson_openscale.base_classes.watson_open_scale_v2 import MetricThreshold\n",
    "from ibm_watson_openscale.supporting_classes.enums import MetricThresholdTypes\n",
    "from ibm_watson_openscale.base_classes.watson_open_scale_v2 import MonitorTagRequest\n",
    "from ibm_watson_openscale.base_classes.watson_open_scale_v2 import Target\n",
    "from ibm_watson_openscale.supporting_classes.enums import TargetTypes\n",
    "from ibm_watson_openscale.base_classes.watson_open_scale_v2 import IntegratedSystems, ApplicabilitySelection\n",
    "from ibm_watson_openscale.base_classes.watson_open_scale_v2 import MonitorInstanceSchedule, ScheduleStartTime, MonitorRuntime\n",
    "\n",
    "from datetime import datetime, timezone, timedelta\n",
    "import uuid\n",
    "\n",
    "from ibm_cloud_sdk_core.authenticators import CloudPakForDataAuthenticator\n",
    "\n",
    "from ibm_watson_openscale import *\n",
    "from ibm_watson_openscale.supporting_classes.enums import *\n",
    "from ibm_watson_openscale.supporting_classes import *\n",
    "\n",
    "\n",
    "authenticator = CloudPakForDataAuthenticator(\n",
    "        url=WOS_CREDENTIALS['url'],\n",
    "        username=WOS_CREDENTIALS['username'],\n",
    "        apikey=WOS_CREDENTIALS['apikey'],\n",
    "        disable_ssl_verification=True\n",
    "    )\n",
    "wos_client = APIClient(service_url=WOS_CREDENTIALS['url'],authenticator=authenticator, service_instance_id=WOS_GUID)"
   ]
  },
  {
   "cell_type": "markdown",
   "metadata": {
    "id": "2c4b9432fc7949deb5ec12e1451ac492"
   },
   "source": [
    "### Configure authentication"
   ]
  },
  {
   "cell_type": "code",
   "execution_count": 8,
   "metadata": {
    "id": "5b124b58332b4016822c1b1fc3446d8a"
   },
   "outputs": [],
   "source": [
    "auth_type = \"bearer\" #Supported values are basic and bearer\n",
    "\n",
    "if auth_type == \"basic\":\n",
    "    CUSTOM_METRICS_PROVIDER_CREDENTIALS = {\n",
    "        \"auth_type\":\"basic\",\n",
    "        \"username\":  \"*****\",# update the username here \n",
    "        \"password\": \"*****\"# Update the password here\n",
    "   }\n",
    "    \n",
    "if auth_type == \"bearer\":\n",
    "    CUSTOM_METRICS_PROVIDER_CREDENTIALS = {\n",
    "        \"auth_type\":\"bearer\",\n",
    "        \"token_info\": {\n",
    "            \"url\": \"{}/icp4d-api/v1/authorize\".format(WOS_CREDENTIALS['url']),\n",
    "            \"headers\": {\n",
    "                \"Content-Type\": \"application/json\",\n",
    "                \"Accept\": \"application/json\"\n",
    "            },\n",
    "            \"payload\": {\n",
    "                \"username\": WOS_CREDENTIALS['username'],\n",
    "                \"api_key\": WOS_CREDENTIALS['apikey'],\n",
    "            },\n",
    "            \"method\": \"post\"\n",
    "        }\n",
    "    }"
   ]
  },
  {
   "cell_type": "markdown",
   "metadata": {
    "id": "1de1ac8b344f4fc0891c4f28349370d4"
   },
   "source": [
    "### Define the integration system"
   ]
  },
  {
   "cell_type": "code",
   "execution_count": 9,
   "metadata": {
    "id": "4721c08698864a82806b5dcae1cd89f8"
   },
   "outputs": [
    {
     "name": "stdout",
     "output_type": "stream",
     "text": [
      "Deleting integrated system AIDC Metrics Provider\n"
     ]
    }
   ],
   "source": [
    "# Delete existing custom metrics provider integrated systems if present\n",
    "integrated_systems = IntegratedSystems(wos_client).list().result.integrated_systems\n",
    "for system in integrated_systems:\n",
    "    if system.entity.type == 'custom_metrics_provider' and system.entity.name == CUSTOM_METRICS_PROVIDER_NAME:\n",
    "        print(\"Deleting integrated system {}\".format(system.entity.name))\n",
    "        IntegratedSystems(wos_client).delete(integrated_system_id=system.metadata.id)\n",
    "\n",
    "#Create new integrated system\n",
    "custom_metrics_integrated_system = IntegratedSystems(wos_client).add(\n",
    "    name=CUSTOM_METRICS_PROVIDER_NAME,\n",
    "    description=CUSTOM_METRICS_PROVIDER_NAME,\n",
    "    type=\"custom_metrics_provider\",\n",
    "    credentials= CUSTOM_METRICS_PROVIDER_CREDENTIALS,\n",
    "    connection={\n",
    "        \"display_name\": CUSTOM_METRICS_PROVIDER_NAME,\n",
    "        \"endpoint\": scoring_url\n",
    "    }\n",
    ").result\n",
    "\n",
    "integrated_system_id = custom_metrics_integrated_system.metadata.id     \n",
    "\n",
    "def get_custom_monitor_definition():\n",
    "    monitor_definitions = wos_client.monitor_definitions.list().result.monitor_definitions\n",
    "    for definition in monitor_definitions:\n",
    "        if CUSTOM_MONITOR_NAME == definition.entity.name:\n",
    "            return definition\n",
    "    return None  "
   ]
  },
  {
   "cell_type": "markdown",
   "metadata": {
    "id": "95206a6ad54243c1b1e24e4bb1485ba7"
   },
   "source": [
    "### Configure the metrics"
   ]
  },
  {
   "cell_type": "code",
   "execution_count": 10,
   "metadata": {
    "id": "5048f968f4674d40845ea33821cfcaf9"
   },
   "outputs": [],
   "source": [
    "# Update the input data type of your model.  \n",
    "input_data_type = [\"structured\"]\n",
    "algorithm_types = [\"binary\"]\n",
    "problemTypeSelection = ApplicabilitySelection(problem_type=algorithm_types)\n",
    "inputDataTypeSelection = ApplicabilitySelection(input_data_type=input_data_type)\n",
    "monitor_description = 'Set of AIDC Metrics'\n",
    "\n",
    "#Update the tag values if you want to fetch the metrics by tags\n",
    "TAGS= ['provider']\n",
    "TAG_DESCRIPTION =['AIDC']\n",
    "CUSTOM_MONITOR_METRICS_NAMES = [\"decisioncost\",'performance', 'impact', 'ml', 'human','roi']\n",
    "CUSTOM_DESCRIPTION = ['decision cost for the model', 'Average performance of the model', 'Average impact for the model', 'ml percentage', 'human percentage','Return on investment']"
   ]
  },
  {
   "cell_type": "markdown",
   "metadata": {
    "id": "8a035186e4a048dd835df7f2b863f116"
   },
   "source": [
    "### Define thresholds"
   ]
  },
  {
   "cell_type": "code",
   "execution_count": 11,
   "metadata": {
    "id": "9a3a05aa37bf4b05930337360cd2d44e"
   },
   "outputs": [],
   "source": [
    "#Update the Threshold types and default values of the metrics\n",
    "def custom_metric_definitions():\n",
    "        \n",
    "    metrics = [\n",
    "        MonitorMetricRequest(name=CUSTOM_MONITOR_METRICS_NAMES[0], applies_to=problemTypeSelection,\n",
    "                             description=CUSTOM_DESCRIPTION[0],\n",
    "                             thresholds=[MetricThreshold(type=MetricThresholdTypes.LOWER_LIMIT, default=-1),\n",
    "                                       MetricThreshold(type=MetricThresholdTypes.UPPER_LIMIT, default=1)]),\n",
    "        MonitorMetricRequest(name=CUSTOM_MONITOR_METRICS_NAMES[1], applies_to=problemTypeSelection,\n",
    "                             description=CUSTOM_DESCRIPTION[1],\n",
    "                             thresholds=[MetricThreshold(type=MetricThresholdTypes.LOWER_LIMIT, default=10),\n",
    "                                         MetricThreshold(type=MetricThresholdTypes.UPPER_LIMIT, default=1000)]),\n",
    "        MonitorMetricRequest(name=CUSTOM_MONITOR_METRICS_NAMES[2], applies_to=problemTypeSelection,\n",
    "                             description=CUSTOM_DESCRIPTION[2],                               \n",
    "                             thresholds=[MetricThreshold(type=MetricThresholdTypes.LOWER_LIMIT, default=10),\n",
    "                                         MetricThreshold(type=MetricThresholdTypes.UPPER_LIMIT, default=1000)]),\n",
    "        MonitorMetricRequest(name=CUSTOM_MONITOR_METRICS_NAMES[3], applies_to=problemTypeSelection,\n",
    "                             description=CUSTOM_DESCRIPTION[3],                                                              \n",
    "                             thresholds=[MetricThreshold(type=MetricThresholdTypes.LOWER_LIMIT, default=40),\n",
    "                                         MetricThreshold(type=MetricThresholdTypes.UPPER_LIMIT, default=80)]),\n",
    "        MonitorMetricRequest(name=CUSTOM_MONITOR_METRICS_NAMES[4], applies_to=problemTypeSelection,\n",
    "                             description=CUSTOM_DESCRIPTION[4],\n",
    "                             thresholds=[MetricThreshold(type=MetricThresholdTypes.LOWER_LIMIT, default=20),\n",
    "                                         MetricThreshold(type=MetricThresholdTypes.UPPER_LIMIT, default=50)]),\n",
    "        MonitorMetricRequest(name=CUSTOM_MONITOR_METRICS_NAMES[5], applies_to=problemTypeSelection,\n",
    "                             description=CUSTOM_DESCRIPTION[5],\n",
    "                             thresholds=[MetricThreshold(type=MetricThresholdTypes.LOWER_LIMIT, default=100),\n",
    "                                         MetricThreshold(type=MetricThresholdTypes.UPPER_LIMIT, default=1000.0)])\n",
    "    ]\n",
    "    #Comment the below tags code if there are no tags to be created\n",
    "    tags = [MonitorTagRequest(name=TAGS[0], description=TAG_DESCRIPTION[0])]\n",
    "\n",
    "    return metrics, tags"
   ]
  },
  {
   "cell_type": "markdown",
   "metadata": {
    "id": "317463ff1ec143208a3c9ba4a36e9eb0"
   },
   "source": [
    "### Configure schedule"
   ]
  },
  {
   "cell_type": "code",
   "execution_count": 12,
   "metadata": {
    "id": "203ce57916584ed58de684c8ead50ac9"
   },
   "outputs": [],
   "source": [
    "#Enable the schedule for your custom monitor. Update the value to false if you want to disable the schedule\n",
    "ENABLE_SCHEDULE = True\n",
    "\n",
    "#Update the repeat interval and repeat type: Default is 1 hour\n",
    "repeat_interval = 1\n",
    "repeat_type = \"hour\"\n",
    "\n",
    "#Update the delay unit and interval to trigger the first schedule run after the custom monitor instance is created. Default is 30 minutes\n",
    "delay_unit = \"minute\"\n",
    "delay_time= 30\n",
    "\n",
    "start_time= ScheduleStartTime(type = \"relative\", delay_unit= delay_unit, delay = delay_time)\n",
    "schedule = MonitorInstanceSchedule(repeat_interval=repeat_interval,repeat_unit=repeat_type, start_time=start_time)  \n",
    "\n",
    "#Update the wait time here.\n",
    "custom_metrics_wait_time = 50 #time in seconds <update the time here>\n",
    "\n",
    "#Maximum number of records to consider during custom monitor run evaluation. Update max_records value as per the requirement\n",
    "max_records = None\n",
    "#Minimum number of records to consider during custom monitor run evaluation. Update min_records value as per the requirement\n",
    "min_records = None"
   ]
  },
  {
   "cell_type": "markdown",
   "metadata": {
    "id": "8053cc712ebb40f49d0c80c1960964c1"
   },
   "source": [
    "### Define the monitor "
   ]
  },
  {
   "cell_type": "code",
   "execution_count": 13,
   "metadata": {
    "id": "e4eea89b80e64b498214d7fdf0a8aea2"
   },
   "outputs": [
    {
     "name": "stdout",
     "output_type": "stream",
     "text": [
      "Deletting the existing monitor definition..\n",
      "\n",
      "\n",
      "==================================================================\n",
      "\n",
      " Waiting for end of deleting monitor definition aidc_demo_monitor \n",
      "\n",
      "==================================================================\n",
      "\n",
      "\n",
      "\n",
      "finished\n",
      "\n",
      "---------------------------------------------------\n",
      " Successfully finished deleting monitor definition \n",
      "---------------------------------------------------\n",
      "\n",
      "\n",
      "Creating the existing monitor definition..\n",
      "\n",
      "\n",
      "================================================================\n",
      "\n",
      " Waiting for end of adding monitor definition aidc_demo_monitor \n",
      "\n",
      "================================================================\n",
      "\n",
      "\n",
      "\n",
      "finished\n",
      "\n",
      "-------------------------------------------------\n",
      " Successfully finished adding monitor definition \n",
      "-------------------------------------------------\n",
      "\n",
      "\n"
     ]
    }
   ],
   "source": [
    "def create_custom_monitor_definition():\n",
    "    # check if the custom monitor definition already exists or not\n",
    "    existing_definition = get_custom_monitor_definition()\n",
    "\n",
    "    # if it does not exists, then create a new one.\n",
    "    if existing_definition is not None:\n",
    "        print('Deletting the existing monitor definition..')\n",
    "        wos_client.monitor_definitions.delete(monitor_definition_id = existing_definition.metadata.id, background_mode = False, force = True)\n",
    "        \n",
    "    # make sure it is indeed deleted..\n",
    "    existing_definition = get_custom_monitor_definition()\n",
    "    if existing_definition is None:\n",
    "        print('Creating the existing monitor definition..')\n",
    "        metrics, tags = custom_metric_definitions()\n",
    "        if ENABLE_SCHEDULE:\n",
    "            monitor_runtime = MonitorRuntime(type=\"custom_metrics_provider\")\n",
    "            custom_monitor_details = wos_client.monitor_definitions.add(name=CUSTOM_MONITOR_NAME, description=monitor_description, metrics=metrics, tags=tags, schedule = schedule, \n",
    "                                                                        applies_to=inputDataTypeSelection, monitor_runtime = monitor_runtime, background_mode=False).result\n",
    "        else:\n",
    "            custom_monitor_details = wos_client.monitor_definitions.add(name=CUSTOM_MONITOR_NAME, description=monitor_description, metrics=metrics, tags=tags, applies_to=inputDataTypeSelection, background_mode=False).result\n",
    "    else:\n",
    "        # otherwise, send the existing definition\n",
    "        print('Monitor deletion did not happen.')\n",
    "    return custom_monitor_details\n",
    "\n",
    "custom_monitor_details = create_custom_monitor_definition()\n",
    "custom_monitor_id = custom_monitor_details.metadata.id"
   ]
  },
  {
   "cell_type": "markdown",
   "metadata": {
    "id": "38f68f991e0543629c8e7b644d744701"
   },
   "source": [
    "### Create the monitor"
   ]
  },
  {
   "cell_type": "code",
   "execution_count": 14,
   "metadata": {
    "id": "422588e6169e42d181617a03e3c35a29"
   },
   "outputs": [
    {
     "name": "stdout",
     "output_type": "stream",
     "text": [
      "\n",
      "\n",
      "===================================================================================\n",
      "\n",
      " Waiting for end of monitor instance creation cd09f5db-409b-4244-bcae-25a5123c55b5 \n",
      "\n",
      "===================================================================================\n",
      "\n",
      "\n",
      "\n",
      "active\n",
      "\n",
      "---------------------------------------\n",
      " Monitor instance successfully created \n",
      "---------------------------------------\n",
      "\n",
      "\n"
     ]
    }
   ],
   "source": [
    "def get_custom_monitor_instance(custom_monitor_id):\n",
    "    monitor_instances = wos_client.monitor_instances.list(data_mart_id = WOS_GUID, monitor_definition_id = custom_monitor_id, target_target_id = subscription_id).result.monitor_instances\n",
    "    if len(monitor_instances) == 1:\n",
    "        return monitor_instances[0]\n",
    "    return None\n",
    "\n",
    "def update_custom_monitor_instance(custom_monitor_instance_id):\n",
    "    payload = [\n",
    "     {\n",
    "       \"op\": \"replace\",\n",
    "       \"path\": \"/parameters\",\n",
    "       \"value\": {\n",
    "           \"custom_metrics_provider_id\": integrated_system_id,\n",
    "           \"custom_metrics_wait_time\":   custom_metrics_wait_time,\n",
    "            \"enable_custom_metric_runs\": True\n",
    "       }\n",
    "     }\n",
    "    ]\n",
    "    if max_records is not None:\n",
    "        payload[0][\"value\"][\"max_records\"] = max_records    \n",
    "    if min_records is not None:\n",
    "        payload[0][\"value\"][\"min_records\"] = min_records \n",
    "        \n",
    "    response = wos_client.monitor_instances.update(custom_monitor_instance_id, payload, update_metadata_only = True)\n",
    "    result = response.result\n",
    "    return result\n",
    "\n",
    "def create_custom_monitor_instance(custom_monitor_id):\n",
    "    # Check if an custom monitor instance already exists\n",
    "    existing_monitor_instance = get_custom_monitor_instance(custom_monitor_id)\n",
    "\n",
    "    # If it does not exist, then create one\n",
    "    if existing_monitor_instance is None:\n",
    "        target = Target(\n",
    "                target_type=TargetTypes.SUBSCRIPTION,\n",
    "                target_id=subscription_id\n",
    "            )\n",
    "        parameters = {\n",
    "            \"custom_metrics_provider_id\": integrated_system_id,\n",
    "            \"custom_metrics_wait_time\":   custom_metrics_wait_time,\n",
    "            \"enable_custom_metric_runs\": True\n",
    "        }\n",
    "        # create the custom monitor instance id here.\n",
    "        custom_monitor_instance_details = wos_client.monitor_instances.create(\n",
    "                    data_mart_id=WOS_GUID,\n",
    "                    background_mode=False,\n",
    "                    monitor_definition_id=custom_monitor_id,\n",
    "                    target=target,\n",
    "                    parameters=parameters\n",
    "        ).result\n",
    "    else:\n",
    "        # otherwise, update the existing one with latest integrated system details.\n",
    "        instance_id = existing_monitor_instance.metadata.id\n",
    "        custom_monitor_instance_details = update_custom_monitor_instance(instance_id)\n",
    "    return custom_monitor_instance_details\n",
    "\n",
    "monitor_instance_details = create_custom_monitor_instance(custom_monitor_id)\n",
    "custom_monitor_instance_id = monitor_instance_details.metadata.id\n",
    "\n",
    "def update_monitor_definition_id_in_integrated_systems(custom_monitor_id):\n",
    "    payload = [\n",
    "     {\n",
    "       \"op\": \"add\",\n",
    "       \"path\": \"/parameters\",\n",
    "       \"value\": {\n",
    "           \"monitor_definition_ids\": [ custom_monitor_id ]\n",
    "     }\n",
    "     }\n",
    "    ]\n",
    "    response = wos_client.integrated_systems.update(integrated_system_id, payload)\n",
    "    result = response.result\n",
    "    return result\n",
    "\n",
    "response = update_monitor_definition_id_in_integrated_systems(custom_monitor_id)"
   ]
  },
  {
   "cell_type": "markdown",
   "metadata": {
    "id": "661eb24c1ee24279bc991f3eedc9b34e"
   },
   "source": [
    "### Execute the monitor"
   ]
  },
  {
   "cell_type": "code",
   "execution_count": 18,
   "metadata": {
    "id": "f607dc1456464ad49d92cdf2598ed94c"
   },
   "outputs": [
    {
     "name": "stdout",
     "output_type": "stream",
     "text": [
      "\n",
      "\n",
      "========================================================================\n",
      "\n",
      " Waiting for end of monitoring run 975dfd43-2f6d-4d12-8440-f253fbcd716b \n",
      "\n",
      "========================================================================\n",
      "\n",
      "\n",
      "\n",
      "running......\n",
      "finished\n",
      "\n",
      "---------------------------\n",
      " Successfully finished run \n",
      "---------------------------\n",
      "\n",
      "\n"
     ]
    }
   ],
   "source": [
    "#Execute the custom metrics provider deployment\n",
    "monitor_instance_run_info = wos_client.monitor_instances.run(\n",
    "        background_mode=False,\n",
    "        monitor_instance_id=custom_monitor_instance_id\n",
    "     ).result\n",
    "\n",
    "monitor_instance_run_info\n",
    "custom_monitor_run_id = monitor_instance_run_info.metadata.id"
   ]
  },
  {
   "cell_type": "markdown",
   "metadata": {
    "id": "78869e90a0864f8b86fec50e4bcbcf84"
   },
   "source": [
    "### Display the results"
   ]
  },
  {
   "cell_type": "code",
   "execution_count": 19,
   "metadata": {
    "id": "4151071a379049d28f7dd4f43ba94f14"
   },
   "outputs": [
    {
     "data": {
      "text/html": [
       "<HTML>\n",
       "        <body>\n",
       "            <h3>cd09f5db-409b-4244-bcae-25a5123c55b5 Monitor Runs Metrics from: 2023-08-18 15:40:52.666734  till: 2023-08-25 15:40:52.666751</h3>\n",
       "            <table style='border: 1px solid #dddddd; font-family: Courier'>\n",
       "                <th style='border: 1px solid #dddddd'>ts</th><th style='border: 1px solid #dddddd'>id</th><th style='border: 1px solid #dddddd'>measurement_id</th><th style='border: 1px solid #dddddd'>value</th><th style='border: 1px solid #dddddd'>lower_limit</th><th style='border: 1px solid #dddddd'>upper_limit</th><th style='border: 1px solid #dddddd'>tags</th><th style='border: 1px solid #dddddd'>monitor_definition_id</th><th style='border: 1px solid #dddddd'>monitor_instance_id</th><th style='border: 1px solid #dddddd'>run_id</th><th style='border: 1px solid #dddddd'>target_type</th><th style='border: 1px solid #dddddd'>target_id</th>\n",
       "                <tr><td style='border: 1px solid #dddddd'>2023-08-25 15:40:13.212362+00:00</td><td style='border: 1px solid #dddddd'>human</td><td style='border: 1px solid #dddddd'>4b719e76-a726-4a90-b896-3250643b5c63</td><td style='border: 1px solid #dddddd'>17.13</td><td style='border: 1px solid #dddddd'>20.0</td><td style='border: 1px solid #dddddd'>50.0</td><td style='border: 1px solid #dddddd'>[]</td><td style='border: 1px solid #dddddd'>aidc_demo_monitor</td><td style='border: 1px solid #dddddd'>cd09f5db-409b-4244-bcae-25a5123c55b5</td><td style='border: 1px solid #dddddd'>975dfd43-2f6d-4d12-8440-f253fbcd716b</td><td style='border: 1px solid #dddddd'>subscription</td><td style='border: 1px solid #dddddd'>40c1fef9-db6e-4dfb-9eb8-5b4b275b0cb8</td></tr><tr><td style='border: 1px solid #dddddd'>2023-08-25 15:40:13.212362+00:00</td><td style='border: 1px solid #dddddd'>roi</td><td style='border: 1px solid #dddddd'>4b719e76-a726-4a90-b896-3250643b5c63</td><td style='border: 1px solid #dddddd'>433.19521674406684</td><td style='border: 1px solid #dddddd'>100.0</td><td style='border: 1px solid #dddddd'>1000.0</td><td style='border: 1px solid #dddddd'>[]</td><td style='border: 1px solid #dddddd'>aidc_demo_monitor</td><td style='border: 1px solid #dddddd'>cd09f5db-409b-4244-bcae-25a5123c55b5</td><td style='border: 1px solid #dddddd'>975dfd43-2f6d-4d12-8440-f253fbcd716b</td><td style='border: 1px solid #dddddd'>subscription</td><td style='border: 1px solid #dddddd'>40c1fef9-db6e-4dfb-9eb8-5b4b275b0cb8</td></tr><tr><td style='border: 1px solid #dddddd'>2023-08-25 15:40:13.212362+00:00</td><td style='border: 1px solid #dddddd'>impact</td><td style='border: 1px solid #dddddd'>4b719e76-a726-4a90-b896-3250643b5c63</td><td style='border: 1px solid #dddddd'>383.0</td><td style='border: 1px solid #dddddd'>10.0</td><td style='border: 1px solid #dddddd'>1000.0</td><td style='border: 1px solid #dddddd'>[]</td><td style='border: 1px solid #dddddd'>aidc_demo_monitor</td><td style='border: 1px solid #dddddd'>cd09f5db-409b-4244-bcae-25a5123c55b5</td><td style='border: 1px solid #dddddd'>975dfd43-2f6d-4d12-8440-f253fbcd716b</td><td style='border: 1px solid #dddddd'>subscription</td><td style='border: 1px solid #dddddd'>40c1fef9-db6e-4dfb-9eb8-5b4b275b0cb8</td></tr><tr><td style='border: 1px solid #dddddd'>2023-08-25 15:40:13.212362+00:00</td><td style='border: 1px solid #dddddd'>ml</td><td style='border: 1px solid #dddddd'>4b719e76-a726-4a90-b896-3250643b5c63</td><td style='border: 1px solid #dddddd'>82.87</td><td style='border: 1px solid #dddddd'>40.0</td><td style='border: 1px solid #dddddd'>80.0</td><td style='border: 1px solid #dddddd'>[]</td><td style='border: 1px solid #dddddd'>aidc_demo_monitor</td><td style='border: 1px solid #dddddd'>cd09f5db-409b-4244-bcae-25a5123c55b5</td><td style='border: 1px solid #dddddd'>975dfd43-2f6d-4d12-8440-f253fbcd716b</td><td style='border: 1px solid #dddddd'>subscription</td><td style='border: 1px solid #dddddd'>40c1fef9-db6e-4dfb-9eb8-5b4b275b0cb8</td></tr><tr><td style='border: 1px solid #dddddd'>2023-08-25 15:40:13.212362+00:00</td><td style='border: 1px solid #dddddd'>decisioncost</td><td style='border: 1px solid #dddddd'>4b719e76-a726-4a90-b896-3250643b5c63</td><td style='border: 1px solid #dddddd'>-0.04486</td><td style='border: 1px solid #dddddd'>-1.0</td><td style='border: 1px solid #dddddd'>1.0</td><td style='border: 1px solid #dddddd'>[]</td><td style='border: 1px solid #dddddd'>aidc_demo_monitor</td><td style='border: 1px solid #dddddd'>cd09f5db-409b-4244-bcae-25a5123c55b5</td><td style='border: 1px solid #dddddd'>975dfd43-2f6d-4d12-8440-f253fbcd716b</td><td style='border: 1px solid #dddddd'>subscription</td><td style='border: 1px solid #dddddd'>40c1fef9-db6e-4dfb-9eb8-5b4b275b0cb8</td></tr><tr><td style='border: 1px solid #dddddd'>2023-08-25 15:40:13.212362+00:00</td><td style='border: 1px solid #dddddd'>performance</td><td style='border: 1px solid #dddddd'>4b719e76-a726-4a90-b896-3250643b5c63</td><td style='border: 1px solid #dddddd'>382.9</td><td style='border: 1px solid #dddddd'>10.0</td><td style='border: 1px solid #dddddd'>1000.0</td><td style='border: 1px solid #dddddd'>[]</td><td style='border: 1px solid #dddddd'>aidc_demo_monitor</td><td style='border: 1px solid #dddddd'>cd09f5db-409b-4244-bcae-25a5123c55b5</td><td style='border: 1px solid #dddddd'>975dfd43-2f6d-4d12-8440-f253fbcd716b</td><td style='border: 1px solid #dddddd'>subscription</td><td style='border: 1px solid #dddddd'>40c1fef9-db6e-4dfb-9eb8-5b4b275b0cb8</td></tr><tr><td style='border: 1px solid #dddddd'>2023-08-25 15:31:38.653505+00:00</td><td style='border: 1px solid #dddddd'>human</td><td style='border: 1px solid #dddddd'>9a9071a0-c13d-4f44-97c7-a2ccd8463a53</td><td style='border: 1px solid #dddddd'>0.0</td><td style='border: 1px solid #dddddd'>20.0</td><td style='border: 1px solid #dddddd'>50.0</td><td style='border: 1px solid #dddddd'>[]</td><td style='border: 1px solid #dddddd'>aidc_demo_monitor</td><td style='border: 1px solid #dddddd'>cd09f5db-409b-4244-bcae-25a5123c55b5</td><td style='border: 1px solid #dddddd'>6199a8ed-47c4-4383-b831-9b6364ee5f5b</td><td style='border: 1px solid #dddddd'>subscription</td><td style='border: 1px solid #dddddd'>40c1fef9-db6e-4dfb-9eb8-5b4b275b0cb8</td></tr><tr><td style='border: 1px solid #dddddd'>2023-08-25 15:31:38.653505+00:00</td><td style='border: 1px solid #dddddd'>roi</td><td style='border: 1px solid #dddddd'>9a9071a0-c13d-4f44-97c7-a2ccd8463a53</td><td style='border: 1px solid #dddddd'>0.0</td><td style='border: 1px solid #dddddd'>100.0</td><td style='border: 1px solid #dddddd'>1000.0</td><td style='border: 1px solid #dddddd'>[]</td><td style='border: 1px solid #dddddd'>aidc_demo_monitor</td><td style='border: 1px solid #dddddd'>cd09f5db-409b-4244-bcae-25a5123c55b5</td><td style='border: 1px solid #dddddd'>6199a8ed-47c4-4383-b831-9b6364ee5f5b</td><td style='border: 1px solid #dddddd'>subscription</td><td style='border: 1px solid #dddddd'>40c1fef9-db6e-4dfb-9eb8-5b4b275b0cb8</td></tr><tr><td style='border: 1px solid #dddddd'>2023-08-25 15:31:38.653505+00:00</td><td style='border: 1px solid #dddddd'>impact</td><td style='border: 1px solid #dddddd'>9a9071a0-c13d-4f44-97c7-a2ccd8463a53</td><td style='border: 1px solid #dddddd'>0.0</td><td style='border: 1px solid #dddddd'>10.0</td><td style='border: 1px solid #dddddd'>1000.0</td><td style='border: 1px solid #dddddd'>[]</td><td style='border: 1px solid #dddddd'>aidc_demo_monitor</td><td style='border: 1px solid #dddddd'>cd09f5db-409b-4244-bcae-25a5123c55b5</td><td style='border: 1px solid #dddddd'>6199a8ed-47c4-4383-b831-9b6364ee5f5b</td><td style='border: 1px solid #dddddd'>subscription</td><td style='border: 1px solid #dddddd'>40c1fef9-db6e-4dfb-9eb8-5b4b275b0cb8</td></tr><tr><td style='border: 1px solid #dddddd'>2023-08-25 15:31:38.653505+00:00</td><td style='border: 1px solid #dddddd'>ml</td><td style='border: 1px solid #dddddd'>9a9071a0-c13d-4f44-97c7-a2ccd8463a53</td><td style='border: 1px solid #dddddd'>0.0</td><td style='border: 1px solid #dddddd'>40.0</td><td style='border: 1px solid #dddddd'>80.0</td><td style='border: 1px solid #dddddd'>[]</td><td style='border: 1px solid #dddddd'>aidc_demo_monitor</td><td style='border: 1px solid #dddddd'>cd09f5db-409b-4244-bcae-25a5123c55b5</td><td style='border: 1px solid #dddddd'>6199a8ed-47c4-4383-b831-9b6364ee5f5b</td><td style='border: 1px solid #dddddd'>subscription</td><td style='border: 1px solid #dddddd'>40c1fef9-db6e-4dfb-9eb8-5b4b275b0cb8</td></tr>\n",
       "            </table>\n",
       "        </body>\n",
       "        </HTML>"
      ],
      "text/plain": [
       "<IPython.core.display.HTML object>"
      ]
     },
     "metadata": {},
     "output_type": "display_data"
    },
    {
     "name": "stdout",
     "output_type": "stream",
     "text": [
      "Note: First 10 records were displayed.\n"
     ]
    }
   ],
   "source": [
    "#Display the results\n",
    "wos_client.monitor_instances.show_metrics(monitor_instance_id=custom_monitor_instance_id)"
   ]
  }
 ],
 "metadata": {
  "kernelspec": {
   "display_name": "Python 3.10",
   "language": "python",
   "name": "python3"
  },
  "language_info": {
   "codemirror_mode": {
    "name": "ipython",
    "version": 3
   },
   "file_extension": ".py",
   "mimetype": "text/x-python",
   "name": "python",
   "nbconvert_exporter": "python",
   "pygments_lexer": "ipython3",
   "version": "3.10.10"
  }
 },
 "nbformat": 4,
 "nbformat_minor": 1
}
